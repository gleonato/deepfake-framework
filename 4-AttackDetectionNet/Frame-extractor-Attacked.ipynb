{
 "cells": [
  {
   "cell_type": "code",
   "execution_count": null,
   "metadata": {},
   "outputs": [],
   "source": [
    "!pip install -r ../1-AdversarialDeepFakes/requirements.txt"
   ]
  },
  {
   "cell_type": "code",
   "execution_count": 1,
   "metadata": {},
   "outputs": [],
   "source": [
    "import cv2\n",
    "import os\n",
    "\n",
    "\n",
    "count = 0\n",
    "attacked_dir = '/home/ec2-user/SageMaker/deepfake-framework/Dataset/25/manipulated_sequences/Deepfakes/raw/2-Adv_attacked_videos' \n",
    "not_attacked_dir = '/home/ec2-user/SageMaker/deepfake-framework/Dataset/25/manipulated_sequences/FaceSwap/raw/videos'\n",
    "\n",
    "# image dimension resize \n",
    "dim = (1280,720)\n",
    "\n",
    "# Extract frames from attacked videos FOR TESTING\n",
    "\n",
    "# for input_video in os.listdir(directory):\n",
    "#   vidcap = cv2.VideoCapture(directory + input_video)\n",
    "#   success,image = vidcap.read()\n",
    "#   # count = 0\n",
    "#   while success:\n",
    "#     image = cv2.resize(image,dim)\n",
    "#     cv2.imwrite(\"data/test/frame%d.jpg\" % count, image)     # save frame as JPEG file      \n",
    "#     success,image = vidcap.read()\n",
    "#     print('Read a new frame: ', success, count)\n",
    "#     count += 1"
   ]
  },
  {
   "cell_type": "code",
   "execution_count": 2,
   "metadata": {},
   "outputs": [],
   "source": [
    "# # Extract frames from adversally attacked videos\n",
    "\n",
    "count = 0\n",
    "video_type = \"Attacked\"\n",
    "\n",
    "for input_video in os.listdir(attacked_dir):\n",
    "  vidcap = cv2.VideoCapture(attacked_dir + input_video)\n",
    "  success,image = vidcap.read()\n",
    "#   count = 0\n",
    "  while success:\n",
    "    image = cv2.resize(image,dim)\n",
    "    cv2.imwrite(\"/home/ec2-user/SageMaker/deepfake-framework/Dataset/25/manipulated_sequences/Deepfakes/raw/3-Frames/train/Attacked/{}-video-{}-frame-{}.jpg\".format(video_type, input_video, count), image)     # save frame as JPEG file      \n",
    "    success,image = vidcap.read()\n",
    "    print(\"{}-video-{}-frame-{}.jpg\".format(video_type, input_video, count))\n",
    "    count += 1\n"
   ]
  },
  {
   "cell_type": "code",
   "execution_count": 8,
   "metadata": {},
   "outputs": [],
   "source": [
    "# # Extract frames from adversally attacked videos\n",
    "\n",
    "count = 0\n",
    "video_type = \"NotAttacked\"\n",
    "\n",
    "for input_video in os.listdir(not_attacked_dir):\n",
    "  vidcap = cv2.VideoCapture(not_attacked_dir + input_video)\n",
    "  success,image = vidcap.read()\n",
    "#   count = 0\n",
    "  while success:\n",
    "    image = cv2.resize(image,dim)\n",
    "    cv2.imwrite(\"/home/ec2-user/SageMaker/deepfake-framework/Dataset/25/manipulated_sequences/Deepfakes/raw/3-Frames/train/NotAttacked/{}-video-{}-frame-{}.jpg\".format(video_type, input_video, count), image)     # save frame as JPEG file      \n",
    "    success,image = vidcap.read()\n",
    "    print(\"{}-video-{}-frame-{}.jpg\".format(video_type, input_video, count))\n",
    "    count += 1"
   ]
  },
  {
   "cell_type": "code",
   "execution_count": null,
   "metadata": {},
   "outputs": [],
   "source": [
    "# # Extract frames from attacked videos FOR TESTING\n",
    "\n",
    "# for input_video in os.listdir(directory):\n",
    "#   vidcap = cv2.VideoCapture(directory + input_video)\n",
    "#   success,image = vidcap.read()\n",
    "#   # count = 0\n",
    "#   while success:\n",
    "#     image = cv2.resize(image,dim)\n",
    "#     cv2.imwrite(\"data/test/frame%d.jpg\" % count, image)     # save frame as JPEG file      \n",
    "#     success,image = vidcap.read()\n",
    "#     print('Read a new frame: ', success, count)\n",
    "#     count += 1"
   ]
  }
 ],
 "metadata": {
  "instance_type": "ml.t3.medium",
  "kernelspec": {
   "display_name": "conda_amazonei_pytorch_latest_p36",
   "language": "python",
   "name": "conda_amazonei_pytorch_latest_p36"
  },
  "language_info": {
   "codemirror_mode": {
    "name": "ipython",
    "version": 3
   },
   "file_extension": ".py",
   "mimetype": "text/x-python",
   "name": "python",
   "nbconvert_exporter": "python",
   "pygments_lexer": "ipython3",
   "version": "3.6.13"
  }
 },
 "nbformat": 4,
 "nbformat_minor": 4
}
